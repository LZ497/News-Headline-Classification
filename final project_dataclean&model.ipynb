{
 "cells": [
  {
   "cell_type": "code",
   "execution_count": 1,
   "id": "d9e34473",
   "metadata": {},
   "outputs": [],
   "source": [
    "import pandas as pd\n",
    "import numpy as np\n",
    "import matplotlib.pyplot as plt\n",
    "import seaborn as sns\n",
    "import re\n",
    "import os\n",
    "from wordcloud import WordCloud, STOPWORDS\n",
    "from sklearn.feature_extraction.text import CountVectorizer\n",
    "from sklearn.feature_extraction.text import TfidfVectorizer\n",
    "from nltk.tokenize import word_tokenize\n",
    "from pandas import DataFrame\n",
    "from sklearn.model_selection import train_test_split\n",
    "from sklearn.metrics import confusion_matrix, plot_confusion_matrix\n",
    "from sklearn.tree import DecisionTreeClassifier, plot_tree\n",
    "from sklearn import tree \n",
    "from sklearn import preprocessing\n",
    "import plotly.express as px\n",
    "from sklearn.ensemble import RandomForestClassifier\n",
    "from sklearn.linear_model import Perceptron\n",
    "from sklearn.svm import SVC, LinearSVC\n",
    "from sklearn.naive_bayes import MultinomialNB\n",
    "import numpy as np\n",
    "from sklearn.feature_extraction.text import CountVectorizer\n",
    "from sklearn.feature_extraction.text import TfidfTransformer\n",
    "from sklearn.pipeline import Pipeline\n",
    "from sklearn.metrics import classification_report, confusion_matrix,roc_auc_score,roc_curve\n",
    "import matplotlib.pyplot as plt\n",
    "from sklearn.model_selection import GridSearchCV"
   ]
  },
  {
   "cell_type": "markdown",
   "id": "787d142a",
   "metadata": {},
   "source": [
    "# Part 1: Text cleaning"
   ]
  },
  {
   "cell_type": "markdown",
   "id": "b9eff3b8",
   "metadata": {},
   "source": [
    "## Data Exploration"
   ]
  },
  {
   "cell_type": "code",
   "execution_count": 2,
   "id": "7337b437",
   "metadata": {},
   "outputs": [
    {
     "name": "stderr",
     "output_type": "stream",
     "text": [
      "D:\\anaconda3\\envs\\tensorflow1\\lib\\site-packages\\IPython\\core\\interactiveshell.py:3441: FutureWarning: The error_bad_lines argument has been deprecated and will be removed in a future version.\n",
      "\n",
      "\n",
      "  exec(code_obj, self.user_global_ns, self.user_ns)\n"
     ]
    }
   ],
   "source": [
    "News_DF=pd.read_csv('News_Headline.csv', error_bad_lines=False, encoding='latin-1')"
   ]
  },
  {
   "cell_type": "code",
   "execution_count": 3,
   "id": "84e43b12",
   "metadata": {},
   "outputs": [
    {
     "data": {
      "text/html": [
       "<div>\n",
       "<style scoped>\n",
       "    .dataframe tbody tr th:only-of-type {\n",
       "        vertical-align: middle;\n",
       "    }\n",
       "\n",
       "    .dataframe tbody tr th {\n",
       "        vertical-align: top;\n",
       "    }\n",
       "\n",
       "    .dataframe thead th {\n",
       "        text-align: right;\n",
       "    }\n",
       "</style>\n",
       "<table border=\"1\" class=\"dataframe\">\n",
       "  <thead>\n",
       "    <tr style=\"text-align: right;\">\n",
       "      <th></th>\n",
       "      <th>category</th>\n",
       "      <th>headline</th>\n",
       "      <th>links</th>\n",
       "      <th>short_description</th>\n",
       "      <th>keywords</th>\n",
       "      <th>Unnamed: 5</th>\n",
       "      <th>Unnamed: 6</th>\n",
       "      <th>Unnamed: 7</th>\n",
       "      <th>Unnamed: 8</th>\n",
       "      <th>Unnamed: 9</th>\n",
       "      <th>Unnamed: 10</th>\n",
       "      <th>Unnamed: 11</th>\n",
       "    </tr>\n",
       "  </thead>\n",
       "  <tbody>\n",
       "    <tr>\n",
       "      <th>0</th>\n",
       "      <td>POLITICS</td>\n",
       "      <td>GOP Congressman Suggests Looser Standard Of Pr...</td>\n",
       "      <td>https://www.huffingtonpost.com/entry/zeldin-mu...</td>\n",
       "      <td>Rep. Lee Zeldin says there needs to be \"some t...</td>\n",
       "      <td>zeldin-muslims-reasonable-suspicion</td>\n",
       "      <td>NaN</td>\n",
       "      <td>NaN</td>\n",
       "      <td>NaN</td>\n",
       "      <td>NaN</td>\n",
       "      <td>NaN</td>\n",
       "      <td>NaN</td>\n",
       "      <td>NaN</td>\n",
       "    </tr>\n",
       "    <tr>\n",
       "      <th>1</th>\n",
       "      <td>POLITICS</td>\n",
       "      <td>The ACLU Is Suing To Strike Down Ohio's Congre...</td>\n",
       "      <td>https://www.huffingtonpost.com/entry/ohio-cong...</td>\n",
       "      <td>The civil liberties group says Ohio's map is s...</td>\n",
       "      <td>ohio-congressional-map-gerrymandering</td>\n",
       "      <td>NaN</td>\n",
       "      <td>NaN</td>\n",
       "      <td>NaN</td>\n",
       "      <td>NaN</td>\n",
       "      <td>NaN</td>\n",
       "      <td>NaN</td>\n",
       "      <td>NaN</td>\n",
       "    </tr>\n",
       "    <tr>\n",
       "      <th>2</th>\n",
       "      <td>POLITICS</td>\n",
       "      <td>Don't Like The New Climate Rules? Thank Congress.</td>\n",
       "      <td>https://www.huffingtonpost.com/entry/congress-...</td>\n",
       "      <td>Legislators could have passed a climate change...</td>\n",
       "      <td>congress-climate-rules-emissions</td>\n",
       "      <td>NaN</td>\n",
       "      <td>NaN</td>\n",
       "      <td>NaN</td>\n",
       "      <td>NaN</td>\n",
       "      <td>NaN</td>\n",
       "      <td>NaN</td>\n",
       "      <td>NaN</td>\n",
       "    </tr>\n",
       "    <tr>\n",
       "      <th>3</th>\n",
       "      <td>POLITICS</td>\n",
       "      <td>The Story Behind An Iconic Picture Of Civil Ri...</td>\n",
       "      <td>https://www.huffingtonpost.com/entry/how-julia...</td>\n",
       "      <td>An often-forgotten battle for free speech righ...</td>\n",
       "      <td>how-julian-bond-fought-georgia-all-the-way-to-...</td>\n",
       "      <td>NaN</td>\n",
       "      <td>NaN</td>\n",
       "      <td>NaN</td>\n",
       "      <td>NaN</td>\n",
       "      <td>NaN</td>\n",
       "      <td>NaN</td>\n",
       "      <td>NaN</td>\n",
       "    </tr>\n",
       "    <tr>\n",
       "      <th>4</th>\n",
       "      <td>POLITICS</td>\n",
       "      <td>Pro-Abortion Rights Progressive Wins Nebraska ...</td>\n",
       "      <td>https://www.huffingtonpost.com/entry/kara-east...</td>\n",
       "      <td>Kara Eastman prevailed against an establishmen...</td>\n",
       "      <td>kara-eastman-wins-nebraska-democratic-primary</td>\n",
       "      <td>NaN</td>\n",
       "      <td>NaN</td>\n",
       "      <td>NaN</td>\n",
       "      <td>NaN</td>\n",
       "      <td>NaN</td>\n",
       "      <td>NaN</td>\n",
       "      <td>NaN</td>\n",
       "    </tr>\n",
       "    <tr>\n",
       "      <th>...</th>\n",
       "      <td>...</td>\n",
       "      <td>...</td>\n",
       "      <td>...</td>\n",
       "      <td>...</td>\n",
       "      <td>...</td>\n",
       "      <td>...</td>\n",
       "      <td>...</td>\n",
       "      <td>...</td>\n",
       "      <td>...</td>\n",
       "      <td>...</td>\n",
       "      <td>...</td>\n",
       "      <td>...</td>\n",
       "    </tr>\n",
       "    <tr>\n",
       "      <th>44905</th>\n",
       "      <td>SPORTS</td>\n",
       "      <td>This Baseball Team Learned There's AÂ Wrong Wa...</td>\n",
       "      <td>https://www.huffingtonpost.com/entry/san-jose-...</td>\n",
       "      <td>Many fans were pissed after seeing the minor l...</td>\n",
       "      <td>san-jose-giants-japanese-heritage-night</td>\n",
       "      <td>NaN</td>\n",
       "      <td>NaN</td>\n",
       "      <td>NaN</td>\n",
       "      <td>NaN</td>\n",
       "      <td>NaN</td>\n",
       "      <td>NaN</td>\n",
       "      <td>NaN</td>\n",
       "    </tr>\n",
       "    <tr>\n",
       "      <th>44906</th>\n",
       "      <td>SPORTS</td>\n",
       "      <td>Some Young Spurs Fan Dabbed 38 Times In A Sing...</td>\n",
       "      <td>https://www.huffingtonpost.com/entry/dab-kid-s...</td>\n",
       "      <td>Never change, young man. Never change.</td>\n",
       "      <td>dab-kid-san-antonio-spurs</td>\n",
       "      <td>NaN</td>\n",
       "      <td>NaN</td>\n",
       "      <td>NaN</td>\n",
       "      <td>NaN</td>\n",
       "      <td>NaN</td>\n",
       "      <td>NaN</td>\n",
       "      <td>NaN</td>\n",
       "    </tr>\n",
       "    <tr>\n",
       "      <th>44907</th>\n",
       "      <td>SPORTS</td>\n",
       "      <td>Rasheed Wallace Ejected From Knicks-Suns Game ...</td>\n",
       "      <td>https://www.huffingtonpost.com/entry/rasheed-w...</td>\n",
       "      <td>Wallace was hit with a first technical for a h...</td>\n",
       "      <td>rasheed-wallace-ejected-knicks-suns-ball-dont-lie</td>\n",
       "      <td>NaN</td>\n",
       "      <td>NaN</td>\n",
       "      <td>NaN</td>\n",
       "      <td>NaN</td>\n",
       "      <td>NaN</td>\n",
       "      <td>NaN</td>\n",
       "      <td>NaN</td>\n",
       "    </tr>\n",
       "    <tr>\n",
       "      <th>44908</th>\n",
       "      <td>SPORTS</td>\n",
       "      <td>Why Jake Plummer And Other NFL Players Are Pus...</td>\n",
       "      <td>https://www.huffingtonpost.comhttp://extras.de...</td>\n",
       "      <td>They believe CBD could be an alternative to po...</td>\n",
       "      <td>NaN</td>\n",
       "      <td>NaN</td>\n",
       "      <td>NaN</td>\n",
       "      <td>NaN</td>\n",
       "      <td>NaN</td>\n",
       "      <td>NaN</td>\n",
       "      <td>NaN</td>\n",
       "      <td>NaN</td>\n",
       "    </tr>\n",
       "    <tr>\n",
       "      <th>44909</th>\n",
       "      <td>SPORTS</td>\n",
       "      <td>Simone Biles Isn't The Next Anyone, She's 'The...</td>\n",
       "      <td>https://www.huffingtonpost.com/entry/the-first...</td>\n",
       "      <td>The gymnast is in a league of her own.</td>\n",
       "      <td>the-first-simone-biles</td>\n",
       "      <td>NaN</td>\n",
       "      <td>NaN</td>\n",
       "      <td>NaN</td>\n",
       "      <td>NaN</td>\n",
       "      <td>NaN</td>\n",
       "      <td>NaN</td>\n",
       "      <td>NaN</td>\n",
       "    </tr>\n",
       "  </tbody>\n",
       "</table>\n",
       "<p>44910 rows × 12 columns</p>\n",
       "</div>"
      ],
      "text/plain": [
       "       category                                           headline  \\\n",
       "0      POLITICS  GOP Congressman Suggests Looser Standard Of Pr...   \n",
       "1      POLITICS  The ACLU Is Suing To Strike Down Ohio's Congre...   \n",
       "2      POLITICS  Don't Like The New Climate Rules? Thank Congress.   \n",
       "3      POLITICS  The Story Behind An Iconic Picture Of Civil Ri...   \n",
       "4      POLITICS  Pro-Abortion Rights Progressive Wins Nebraska ...   \n",
       "...         ...                                                ...   \n",
       "44905    SPORTS  This Baseball Team Learned There's AÂ Wrong Wa...   \n",
       "44906    SPORTS  Some Young Spurs Fan Dabbed 38 Times In A Sing...   \n",
       "44907    SPORTS  Rasheed Wallace Ejected From Knicks-Suns Game ...   \n",
       "44908    SPORTS  Why Jake Plummer And Other NFL Players Are Pus...   \n",
       "44909    SPORTS  Simone Biles Isn't The Next Anyone, She's 'The...   \n",
       "\n",
       "                                                   links  \\\n",
       "0      https://www.huffingtonpost.com/entry/zeldin-mu...   \n",
       "1      https://www.huffingtonpost.com/entry/ohio-cong...   \n",
       "2      https://www.huffingtonpost.com/entry/congress-...   \n",
       "3      https://www.huffingtonpost.com/entry/how-julia...   \n",
       "4      https://www.huffingtonpost.com/entry/kara-east...   \n",
       "...                                                  ...   \n",
       "44905  https://www.huffingtonpost.com/entry/san-jose-...   \n",
       "44906  https://www.huffingtonpost.com/entry/dab-kid-s...   \n",
       "44907  https://www.huffingtonpost.com/entry/rasheed-w...   \n",
       "44908  https://www.huffingtonpost.comhttp://extras.de...   \n",
       "44909  https://www.huffingtonpost.com/entry/the-first...   \n",
       "\n",
       "                                       short_description  \\\n",
       "0      Rep. Lee Zeldin says there needs to be \"some t...   \n",
       "1      The civil liberties group says Ohio's map is s...   \n",
       "2      Legislators could have passed a climate change...   \n",
       "3      An often-forgotten battle for free speech righ...   \n",
       "4      Kara Eastman prevailed against an establishmen...   \n",
       "...                                                  ...   \n",
       "44905  Many fans were pissed after seeing the minor l...   \n",
       "44906             Never change, young man. Never change.   \n",
       "44907  Wallace was hit with a first technical for a h...   \n",
       "44908  They believe CBD could be an alternative to po...   \n",
       "44909             The gymnast is in a league of her own.   \n",
       "\n",
       "                                                keywords Unnamed: 5  \\\n",
       "0                    zeldin-muslims-reasonable-suspicion        NaN   \n",
       "1                  ohio-congressional-map-gerrymandering        NaN   \n",
       "2                       congress-climate-rules-emissions        NaN   \n",
       "3      how-julian-bond-fought-georgia-all-the-way-to-...        NaN   \n",
       "4          kara-eastman-wins-nebraska-democratic-primary        NaN   \n",
       "...                                                  ...        ...   \n",
       "44905            san-jose-giants-japanese-heritage-night        NaN   \n",
       "44906                          dab-kid-san-antonio-spurs        NaN   \n",
       "44907  rasheed-wallace-ejected-knicks-suns-ball-dont-lie        NaN   \n",
       "44908                                                NaN        NaN   \n",
       "44909                             the-first-simone-biles        NaN   \n",
       "\n",
       "      Unnamed: 6 Unnamed: 7 Unnamed: 8 Unnamed: 9 Unnamed: 10 Unnamed: 11  \n",
       "0            NaN        NaN        NaN        NaN         NaN         NaN  \n",
       "1            NaN        NaN        NaN        NaN         NaN         NaN  \n",
       "2            NaN        NaN        NaN        NaN         NaN         NaN  \n",
       "3            NaN        NaN        NaN        NaN         NaN         NaN  \n",
       "4            NaN        NaN        NaN        NaN         NaN         NaN  \n",
       "...          ...        ...        ...        ...         ...         ...  \n",
       "44905        NaN        NaN        NaN        NaN         NaN         NaN  \n",
       "44906        NaN        NaN        NaN        NaN         NaN         NaN  \n",
       "44907        NaN        NaN        NaN        NaN         NaN         NaN  \n",
       "44908        NaN        NaN        NaN        NaN         NaN         NaN  \n",
       "44909        NaN        NaN        NaN        NaN         NaN         NaN  \n",
       "\n",
       "[44910 rows x 12 columns]"
      ]
     },
     "execution_count": 3,
     "metadata": {},
     "output_type": "execute_result"
    }
   ],
   "source": [
    "News_DF"
   ]
  },
  {
   "cell_type": "markdown",
   "id": "3b1dcf11",
   "metadata": {},
   "source": [
    "Remove empty columns:"
   ]
  },
  {
   "cell_type": "code",
   "execution_count": 4,
   "id": "7f4178ef",
   "metadata": {},
   "outputs": [],
   "source": [
    "News_DF = News_DF.drop(columns=['Unnamed: 5','Unnamed: 6','Unnamed: 7','Unnamed: 8','Unnamed: 9','Unnamed: 10','Unnamed: 11'])"
   ]
  },
  {
   "cell_type": "code",
   "execution_count": 5,
   "id": "cb311a34",
   "metadata": {},
   "outputs": [
    {
     "data": {
      "text/html": [
       "<div>\n",
       "<style scoped>\n",
       "    .dataframe tbody tr th:only-of-type {\n",
       "        vertical-align: middle;\n",
       "    }\n",
       "\n",
       "    .dataframe tbody tr th {\n",
       "        vertical-align: top;\n",
       "    }\n",
       "\n",
       "    .dataframe thead th {\n",
       "        text-align: right;\n",
       "    }\n",
       "</style>\n",
       "<table border=\"1\" class=\"dataframe\">\n",
       "  <thead>\n",
       "    <tr style=\"text-align: right;\">\n",
       "      <th></th>\n",
       "      <th>category</th>\n",
       "      <th>headline</th>\n",
       "      <th>links</th>\n",
       "      <th>short_description</th>\n",
       "      <th>keywords</th>\n",
       "    </tr>\n",
       "  </thead>\n",
       "  <tbody>\n",
       "    <tr>\n",
       "      <th>0</th>\n",
       "      <td>POLITICS</td>\n",
       "      <td>GOP Congressman Suggests Looser Standard Of Pr...</td>\n",
       "      <td>https://www.huffingtonpost.com/entry/zeldin-mu...</td>\n",
       "      <td>Rep. Lee Zeldin says there needs to be \"some t...</td>\n",
       "      <td>zeldin-muslims-reasonable-suspicion</td>\n",
       "    </tr>\n",
       "    <tr>\n",
       "      <th>1</th>\n",
       "      <td>POLITICS</td>\n",
       "      <td>The ACLU Is Suing To Strike Down Ohio's Congre...</td>\n",
       "      <td>https://www.huffingtonpost.com/entry/ohio-cong...</td>\n",
       "      <td>The civil liberties group says Ohio's map is s...</td>\n",
       "      <td>ohio-congressional-map-gerrymandering</td>\n",
       "    </tr>\n",
       "    <tr>\n",
       "      <th>2</th>\n",
       "      <td>POLITICS</td>\n",
       "      <td>Don't Like The New Climate Rules? Thank Congress.</td>\n",
       "      <td>https://www.huffingtonpost.com/entry/congress-...</td>\n",
       "      <td>Legislators could have passed a climate change...</td>\n",
       "      <td>congress-climate-rules-emissions</td>\n",
       "    </tr>\n",
       "    <tr>\n",
       "      <th>3</th>\n",
       "      <td>POLITICS</td>\n",
       "      <td>The Story Behind An Iconic Picture Of Civil Ri...</td>\n",
       "      <td>https://www.huffingtonpost.com/entry/how-julia...</td>\n",
       "      <td>An often-forgotten battle for free speech righ...</td>\n",
       "      <td>how-julian-bond-fought-georgia-all-the-way-to-...</td>\n",
       "    </tr>\n",
       "    <tr>\n",
       "      <th>4</th>\n",
       "      <td>POLITICS</td>\n",
       "      <td>Pro-Abortion Rights Progressive Wins Nebraska ...</td>\n",
       "      <td>https://www.huffingtonpost.com/entry/kara-east...</td>\n",
       "      <td>Kara Eastman prevailed against an establishmen...</td>\n",
       "      <td>kara-eastman-wins-nebraska-democratic-primary</td>\n",
       "    </tr>\n",
       "    <tr>\n",
       "      <th>...</th>\n",
       "      <td>...</td>\n",
       "      <td>...</td>\n",
       "      <td>...</td>\n",
       "      <td>...</td>\n",
       "      <td>...</td>\n",
       "    </tr>\n",
       "    <tr>\n",
       "      <th>44905</th>\n",
       "      <td>SPORTS</td>\n",
       "      <td>This Baseball Team Learned There's AÂ Wrong Wa...</td>\n",
       "      <td>https://www.huffingtonpost.com/entry/san-jose-...</td>\n",
       "      <td>Many fans were pissed after seeing the minor l...</td>\n",
       "      <td>san-jose-giants-japanese-heritage-night</td>\n",
       "    </tr>\n",
       "    <tr>\n",
       "      <th>44906</th>\n",
       "      <td>SPORTS</td>\n",
       "      <td>Some Young Spurs Fan Dabbed 38 Times In A Sing...</td>\n",
       "      <td>https://www.huffingtonpost.com/entry/dab-kid-s...</td>\n",
       "      <td>Never change, young man. Never change.</td>\n",
       "      <td>dab-kid-san-antonio-spurs</td>\n",
       "    </tr>\n",
       "    <tr>\n",
       "      <th>44907</th>\n",
       "      <td>SPORTS</td>\n",
       "      <td>Rasheed Wallace Ejected From Knicks-Suns Game ...</td>\n",
       "      <td>https://www.huffingtonpost.com/entry/rasheed-w...</td>\n",
       "      <td>Wallace was hit with a first technical for a h...</td>\n",
       "      <td>rasheed-wallace-ejected-knicks-suns-ball-dont-lie</td>\n",
       "    </tr>\n",
       "    <tr>\n",
       "      <th>44908</th>\n",
       "      <td>SPORTS</td>\n",
       "      <td>Why Jake Plummer And Other NFL Players Are Pus...</td>\n",
       "      <td>https://www.huffingtonpost.comhttp://extras.de...</td>\n",
       "      <td>They believe CBD could be an alternative to po...</td>\n",
       "      <td>NaN</td>\n",
       "    </tr>\n",
       "    <tr>\n",
       "      <th>44909</th>\n",
       "      <td>SPORTS</td>\n",
       "      <td>Simone Biles Isn't The Next Anyone, She's 'The...</td>\n",
       "      <td>https://www.huffingtonpost.com/entry/the-first...</td>\n",
       "      <td>The gymnast is in a league of her own.</td>\n",
       "      <td>the-first-simone-biles</td>\n",
       "    </tr>\n",
       "  </tbody>\n",
       "</table>\n",
       "<p>44910 rows × 5 columns</p>\n",
       "</div>"
      ],
      "text/plain": [
       "       category                                           headline  \\\n",
       "0      POLITICS  GOP Congressman Suggests Looser Standard Of Pr...   \n",
       "1      POLITICS  The ACLU Is Suing To Strike Down Ohio's Congre...   \n",
       "2      POLITICS  Don't Like The New Climate Rules? Thank Congress.   \n",
       "3      POLITICS  The Story Behind An Iconic Picture Of Civil Ri...   \n",
       "4      POLITICS  Pro-Abortion Rights Progressive Wins Nebraska ...   \n",
       "...         ...                                                ...   \n",
       "44905    SPORTS  This Baseball Team Learned There's AÂ Wrong Wa...   \n",
       "44906    SPORTS  Some Young Spurs Fan Dabbed 38 Times In A Sing...   \n",
       "44907    SPORTS  Rasheed Wallace Ejected From Knicks-Suns Game ...   \n",
       "44908    SPORTS  Why Jake Plummer And Other NFL Players Are Pus...   \n",
       "44909    SPORTS  Simone Biles Isn't The Next Anyone, She's 'The...   \n",
       "\n",
       "                                                   links  \\\n",
       "0      https://www.huffingtonpost.com/entry/zeldin-mu...   \n",
       "1      https://www.huffingtonpost.com/entry/ohio-cong...   \n",
       "2      https://www.huffingtonpost.com/entry/congress-...   \n",
       "3      https://www.huffingtonpost.com/entry/how-julia...   \n",
       "4      https://www.huffingtonpost.com/entry/kara-east...   \n",
       "...                                                  ...   \n",
       "44905  https://www.huffingtonpost.com/entry/san-jose-...   \n",
       "44906  https://www.huffingtonpost.com/entry/dab-kid-s...   \n",
       "44907  https://www.huffingtonpost.com/entry/rasheed-w...   \n",
       "44908  https://www.huffingtonpost.comhttp://extras.de...   \n",
       "44909  https://www.huffingtonpost.com/entry/the-first...   \n",
       "\n",
       "                                       short_description  \\\n",
       "0      Rep. Lee Zeldin says there needs to be \"some t...   \n",
       "1      The civil liberties group says Ohio's map is s...   \n",
       "2      Legislators could have passed a climate change...   \n",
       "3      An often-forgotten battle for free speech righ...   \n",
       "4      Kara Eastman prevailed against an establishmen...   \n",
       "...                                                  ...   \n",
       "44905  Many fans were pissed after seeing the minor l...   \n",
       "44906             Never change, young man. Never change.   \n",
       "44907  Wallace was hit with a first technical for a h...   \n",
       "44908  They believe CBD could be an alternative to po...   \n",
       "44909             The gymnast is in a league of her own.   \n",
       "\n",
       "                                                keywords  \n",
       "0                    zeldin-muslims-reasonable-suspicion  \n",
       "1                  ohio-congressional-map-gerrymandering  \n",
       "2                       congress-climate-rules-emissions  \n",
       "3      how-julian-bond-fought-georgia-all-the-way-to-...  \n",
       "4          kara-eastman-wins-nebraska-democratic-primary  \n",
       "...                                                  ...  \n",
       "44905            san-jose-giants-japanese-heritage-night  \n",
       "44906                          dab-kid-san-antonio-spurs  \n",
       "44907  rasheed-wallace-ejected-knicks-suns-ball-dont-lie  \n",
       "44908                                                NaN  \n",
       "44909                             the-first-simone-biles  \n",
       "\n",
       "[44910 rows x 5 columns]"
      ]
     },
     "execution_count": 5,
     "metadata": {},
     "output_type": "execute_result"
    }
   ],
   "source": [
    "News_DF"
   ]
  },
  {
   "cell_type": "code",
   "execution_count": 7,
   "id": "dddfeb9b",
   "metadata": {},
   "outputs": [
    {
     "data": {
      "text/plain": [
       "<AxesSubplot:ylabel='category'>"
      ]
     },
     "execution_count": 7,
     "metadata": {},
     "output_type": "execute_result"
    },
    {
     "data": {
      "image/png": "[encoded data removed]",
      "text/plain": [
       "<Figure size 1080x1080 with 1 Axes>"
      ]
     },
     "metadata": {},
     "output_type": "display_data"
    }
   ],
   "source": [
    "fig, ax = plt.subplots(1, 1, figsize=(15,15))\n",
    "News_DF['category'].value_counts().plot.pie( autopct = '%1.1f%%')"
   ]
  },
  {
   "cell_type": "markdown",
   "id": "23652f72",
   "metadata": {},
   "source": [
    "For our text classifier, we will use data from the headline and the description as input."
   ]
  },
  {
   "cell_type": "code",
   "execution_count": 8,
   "id": "27d64889",
   "metadata": {},
   "outputs": [],
   "source": [
    "News_DF['text'] = News_DF.headline + \". \" + News_DF.short_description"
   ]
  },
  {
   "cell_type": "code",
   "execution_count": 9,
   "id": "9d5a4ee5",
   "metadata": {},
   "outputs": [
    {
     "data": {
      "text/plain": [
       "str"
      ]
     },
     "execution_count": 9,
     "metadata": {},
     "output_type": "execute_result"
    }
   ],
   "source": [
    "type(News_DF['text'][0])"
   ]
  },
  {
   "cell_type": "code",
   "execution_count": 10,
   "id": "e07f9a1e",
   "metadata": {},
   "outputs": [
    {
     "data": {
      "text/plain": [
       "\"The ACLU Is Suing To Strike Down Ohio's Congressional Map. The civil liberties group says Ohio's map is so heavily gerrymandered, it violates the Constitution.\""
      ]
     },
     "execution_count": 10,
     "metadata": {},
     "output_type": "execute_result"
    }
   ],
   "source": [
    "News_DF['text'][1]"
   ]
  },
  {
   "cell_type": "code",
   "execution_count": 11,
   "id": "6853f433",
   "metadata": {},
   "outputs": [
    {
     "data": {
      "text/plain": [
       "\"The ACLU Is Suing To Strike Down Ohio's Congressional Map\""
      ]
     },
     "execution_count": 11,
     "metadata": {},
     "output_type": "execute_result"
    }
   ],
   "source": [
    "News_DF['headline'][1]"
   ]
  },
  {
   "cell_type": "code",
   "execution_count": 12,
   "id": "9c9c92df",
   "metadata": {},
   "outputs": [
    {
     "data": {
      "text/html": [
       "<div>\n",
       "<style scoped>\n",
       "    .dataframe tbody tr th:only-of-type {\n",
       "        vertical-align: middle;\n",
       "    }\n",
       "\n",
       "    .dataframe tbody tr th {\n",
       "        vertical-align: top;\n",
       "    }\n",
       "\n",
       "    .dataframe thead th {\n",
       "        text-align: right;\n",
       "    }\n",
       "</style>\n",
       "<table border=\"1\" class=\"dataframe\">\n",
       "  <thead>\n",
       "    <tr style=\"text-align: right;\">\n",
       "      <th></th>\n",
       "      <th>category</th>\n",
       "      <th>headline</th>\n",
       "      <th>links</th>\n",
       "      <th>short_description</th>\n",
       "      <th>keywords</th>\n",
       "      <th>text</th>\n",
       "    </tr>\n",
       "  </thead>\n",
       "  <tbody>\n",
       "    <tr>\n",
       "      <th>0</th>\n",
       "      <td>POLITICS</td>\n",
       "      <td>GOP Congressman Suggests Looser Standard Of Pr...</td>\n",
       "      <td>https://www.huffingtonpost.com/entry/zeldin-mu...</td>\n",
       "      <td>Rep. Lee Zeldin says there needs to be \"some t...</td>\n",
       "      <td>zeldin-muslims-reasonable-suspicion</td>\n",
       "      <td>GOP Congressman Suggests Looser Standard Of Pr...</td>\n",
       "    </tr>\n",
       "    <tr>\n",
       "      <th>1</th>\n",
       "      <td>POLITICS</td>\n",
       "      <td>The ACLU Is Suing To Strike Down Ohio's Congre...</td>\n",
       "      <td>https://www.huffingtonpost.com/entry/ohio-cong...</td>\n",
       "      <td>The civil liberties group says Ohio's map is s...</td>\n",
       "      <td>ohio-congressional-map-gerrymandering</td>\n",
       "      <td>The ACLU Is Suing To Strike Down Ohio's Congre...</td>\n",
       "    </tr>\n",
       "    <tr>\n",
       "      <th>2</th>\n",
       "      <td>POLITICS</td>\n",
       "      <td>Don't Like The New Climate Rules? Thank Congress.</td>\n",
       "      <td>https://www.huffingtonpost.com/entry/congress-...</td>\n",
       "      <td>Legislators could have passed a climate change...</td>\n",
       "      <td>congress-climate-rules-emissions</td>\n",
       "      <td>Don't Like The New Climate Rules? Thank Congre...</td>\n",
       "    </tr>\n",
       "    <tr>\n",
       "      <th>3</th>\n",
       "      <td>POLITICS</td>\n",
       "      <td>The Story Behind An Iconic Picture Of Civil Ri...</td>\n",
       "      <td>https://www.huffingtonpost.com/entry/how-julia...</td>\n",
       "      <td>An often-forgotten battle for free speech righ...</td>\n",
       "      <td>how-julian-bond-fought-georgia-all-the-way-to-...</td>\n",
       "      <td>The Story Behind An Iconic Picture Of Civil Ri...</td>\n",
       "    </tr>\n",
       "    <tr>\n",
       "      <th>4</th>\n",
       "      <td>POLITICS</td>\n",
       "      <td>Pro-Abortion Rights Progressive Wins Nebraska ...</td>\n",
       "      <td>https://www.huffingtonpost.com/entry/kara-east...</td>\n",
       "      <td>Kara Eastman prevailed against an establishmen...</td>\n",
       "      <td>kara-eastman-wins-nebraska-democratic-primary</td>\n",
       "      <td>Pro-Abortion Rights Progressive Wins Nebraska ...</td>\n",
       "    </tr>\n",
       "    <tr>\n",
       "      <th>...</th>\n",
       "      <td>...</td>\n",
       "      <td>...</td>\n",
       "      <td>...</td>\n",
       "      <td>...</td>\n",
       "      <td>...</td>\n",
       "      <td>...</td>\n",
       "    </tr>\n",
       "    <tr>\n",
       "      <th>44905</th>\n",
       "      <td>SPORTS</td>\n",
       "      <td>This Baseball Team Learned There's AÂ Wrong Wa...</td>\n",
       "      <td>https://www.huffingtonpost.com/entry/san-jose-...</td>\n",
       "      <td>Many fans were pissed after seeing the minor l...</td>\n",
       "      <td>san-jose-giants-japanese-heritage-night</td>\n",
       "      <td>This Baseball Team Learned There's AÂ Wrong Wa...</td>\n",
       "    </tr>\n",
       "    <tr>\n",
       "      <th>44906</th>\n",
       "      <td>SPORTS</td>\n",
       "      <td>Some Young Spurs Fan Dabbed 38 Times In A Sing...</td>\n",
       "      <td>https://www.huffingtonpost.com/entry/dab-kid-s...</td>\n",
       "      <td>Never change, young man. Never change.</td>\n",
       "      <td>dab-kid-san-antonio-spurs</td>\n",
       "      <td>Some Young Spurs Fan Dabbed 38 Times In A Sing...</td>\n",
       "    </tr>\n",
       "    <tr>\n",
       "      <th>44907</th>\n",
       "      <td>SPORTS</td>\n",
       "      <td>Rasheed Wallace Ejected From Knicks-Suns Game ...</td>\n",
       "      <td>https://www.huffingtonpost.com/entry/rasheed-w...</td>\n",
       "      <td>Wallace was hit with a first technical for a h...</td>\n",
       "      <td>rasheed-wallace-ejected-knicks-suns-ball-dont-lie</td>\n",
       "      <td>Rasheed Wallace Ejected From Knicks-Suns Game ...</td>\n",
       "    </tr>\n",
       "    <tr>\n",
       "      <th>44908</th>\n",
       "      <td>SPORTS</td>\n",
       "      <td>Why Jake Plummer And Other NFL Players Are Pus...</td>\n",
       "      <td>https://www.huffingtonpost.comhttp://extras.de...</td>\n",
       "      <td>They believe CBD could be an alternative to po...</td>\n",
       "      <td>NaN</td>\n",
       "      <td>Why Jake Plummer And Other NFL Players Are Pus...</td>\n",
       "    </tr>\n",
       "    <tr>\n",
       "      <th>44909</th>\n",
       "      <td>SPORTS</td>\n",
       "      <td>Simone Biles Isn't The Next Anyone, She's 'The...</td>\n",
       "      <td>https://www.huffingtonpost.com/entry/the-first...</td>\n",
       "      <td>The gymnast is in a league of her own.</td>\n",
       "      <td>the-first-simone-biles</td>\n",
       "      <td>Simone Biles Isn't The Next Anyone, She's 'The...</td>\n",
       "    </tr>\n",
       "  </tbody>\n",
       "</table>\n",
       "<p>44910 rows × 6 columns</p>\n",
       "</div>"
      ],
      "text/plain": [
       "       category                                           headline  \\\n",
       "0      POLITICS  GOP Congressman Suggests Looser Standard Of Pr...   \n",
       "1      POLITICS  The ACLU Is Suing To Strike Down Ohio's Congre...   \n",
       "2      POLITICS  Don't Like The New Climate Rules? Thank Congress.   \n",
       "3      POLITICS  The Story Behind An Iconic Picture Of Civil Ri...   \n",
       "4      POLITICS  Pro-Abortion Rights Progressive Wins Nebraska ...   \n",
       "...         ...                                                ...   \n",
       "44905    SPORTS  This Baseball Team Learned There's AÂ Wrong Wa...   \n",
       "44906    SPORTS  Some Young Spurs Fan Dabbed 38 Times In A Sing...   \n",
       "44907    SPORTS  Rasheed Wallace Ejected From Knicks-Suns Game ...   \n",
       "44908    SPORTS  Why Jake Plummer And Other NFL Players Are Pus...   \n",
       "44909    SPORTS  Simone Biles Isn't The Next Anyone, She's 'The...   \n",
       "\n",
       "                                                   links  \\\n",
       "0      https://www.huffingtonpost.com/entry/zeldin-mu...   \n",
       "1      https://www.huffingtonpost.com/entry/ohio-cong...   \n",
       "2      https://www.huffingtonpost.com/entry/congress-...   \n",
       "3      https://www.huffingtonpost.com/entry/how-julia...   \n",
       "4      https://www.huffingtonpost.com/entry/kara-east...   \n",
       "...                                                  ...   \n",
       "44905  https://www.huffingtonpost.com/entry/san-jose-...   \n",
       "44906  https://www.huffingtonpost.com/entry/dab-kid-s...   \n",
       "44907  https://www.huffingtonpost.com/entry/rasheed-w...   \n",
       "44908  https://www.huffingtonpost.comhttp://extras.de...   \n",
       "44909  https://www.huffingtonpost.com/entry/the-first...   \n",
       "\n",
       "                                       short_description  \\\n",
       "0      Rep. Lee Zeldin says there needs to be \"some t...   \n",
       "1      The civil liberties group says Ohio's map is s...   \n",
       "2      Legislators could have passed a climate change...   \n",
       "3      An often-forgotten battle for free speech righ...   \n",
       "4      Kara Eastman prevailed against an establishmen...   \n",
       "...                                                  ...   \n",
       "44905  Many fans were pissed after seeing the minor l...   \n",
       "44906             Never change, young man. Never change.   \n",
       "44907  Wallace was hit with a first technical for a h...   \n",
       "44908  They believe CBD could be an alternative to po...   \n",
       "44909             The gymnast is in a league of her own.   \n",
       "\n",
       "                                                keywords  \\\n",
       "0                    zeldin-muslims-reasonable-suspicion   \n",
       "1                  ohio-congressional-map-gerrymandering   \n",
       "2                       congress-climate-rules-emissions   \n",
       "3      how-julian-bond-fought-georgia-all-the-way-to-...   \n",
       "4          kara-eastman-wins-nebraska-democratic-primary   \n",
       "...                                                  ...   \n",
       "44905            san-jose-giants-japanese-heritage-night   \n",
       "44906                          dab-kid-san-antonio-spurs   \n",
       "44907  rasheed-wallace-ejected-knicks-suns-ball-dont-lie   \n",
       "44908                                                NaN   \n",
       "44909                             the-first-simone-biles   \n",
       "\n",
       "                                                    text  \n",
       "0      GOP Congressman Suggests Looser Standard Of Pr...  \n",
       "1      The ACLU Is Suing To Strike Down Ohio's Congre...  \n",
       "2      Don't Like The New Climate Rules? Thank Congre...  \n",
       "3      The Story Behind An Iconic Picture Of Civil Ri...  \n",
       "4      Pro-Abortion Rights Progressive Wins Nebraska ...  \n",
       "...                                                  ...  \n",
       "44905  This Baseball Team Learned There's AÂ Wrong Wa...  \n",
       "44906  Some Young Spurs Fan Dabbed 38 Times In A Sing...  \n",
       "44907  Rasheed Wallace Ejected From Knicks-Suns Game ...  \n",
       "44908  Why Jake Plummer And Other NFL Players Are Pus...  \n",
       "44909  Simone Biles Isn't The Next Anyone, She's 'The...  \n",
       "\n",
       "[44910 rows x 6 columns]"
      ]
     },
     "execution_count": 12,
     "metadata": {},
     "output_type": "execute_result"
    }
   ],
   "source": [
    "News_DF"
   ]
  },
  {
   "cell_type": "markdown",
   "id": "fa3c94c1",
   "metadata": {},
   "source": [
    "select 40k data for training model:"
   ]
  },
  {
   "cell_type": "code",
   "execution_count": 13,
   "id": "2367b215",
   "metadata": {},
   "outputs": [],
   "source": [
    "n = 0.8\n",
    "small_data = News_DF.sample(n=len(News_DF), random_state=1,ignore_index=True)\n",
    "df_train =  small_data[:int(len(News_DF)*n)]\n",
    "df_test = small_data[int(len(News_DF)*n)+1:]\n",
    "df_test = df_test.reset_index(drop=True)"
   ]
  },
  {
   "cell_type": "markdown",
   "id": "d599d14e",
   "metadata": {},
   "source": [
    "check for the balanced category of train and test dataset:"
   ]
  },
  {
   "cell_type": "code",
   "execution_count": 14,
   "id": "f4b8efd4",
   "metadata": {},
   "outputs": [
    {
     "data": {
      "text/html": [
       "<div>\n",
       "<style scoped>\n",
       "    .dataframe tbody tr th:only-of-type {\n",
       "        vertical-align: middle;\n",
       "    }\n",
       "\n",
       "    .dataframe tbody tr th {\n",
       "        vertical-align: top;\n",
       "    }\n",
       "\n",
       "    .dataframe thead th {\n",
       "        text-align: right;\n",
       "    }\n",
       "</style>\n",
       "<table border=\"1\" class=\"dataframe\">\n",
       "  <thead>\n",
       "    <tr style=\"text-align: right;\">\n",
       "      <th></th>\n",
       "      <th>headline</th>\n",
       "      <th>links</th>\n",
       "      <th>short_description</th>\n",
       "      <th>keywords</th>\n",
       "      <th>text</th>\n",
       "    </tr>\n",
       "    <tr>\n",
       "      <th>category</th>\n",
       "      <th></th>\n",
       "      <th></th>\n",
       "      <th></th>\n",
       "      <th></th>\n",
       "      <th></th>\n",
       "    </tr>\n",
       "  </thead>\n",
       "  <tbody>\n",
       "    <tr>\n",
       "      <th>BUSINESS</th>\n",
       "      <td>3974</td>\n",
       "      <td>3974</td>\n",
       "      <td>3974</td>\n",
       "      <td>3588</td>\n",
       "      <td>3974</td>\n",
       "    </tr>\n",
       "    <tr>\n",
       "      <th>ENTERTAINMENT</th>\n",
       "      <td>3969</td>\n",
       "      <td>3969</td>\n",
       "      <td>3969</td>\n",
       "      <td>3809</td>\n",
       "      <td>3969</td>\n",
       "    </tr>\n",
       "    <tr>\n",
       "      <th>FOOD &amp; DRINK</th>\n",
       "      <td>3985</td>\n",
       "      <td>3985</td>\n",
       "      <td>3985</td>\n",
       "      <td>3876</td>\n",
       "      <td>3985</td>\n",
       "    </tr>\n",
       "    <tr>\n",
       "      <th>PARENTING</th>\n",
       "      <td>4009</td>\n",
       "      <td>4009</td>\n",
       "      <td>4009</td>\n",
       "      <td>3575</td>\n",
       "      <td>4009</td>\n",
       "    </tr>\n",
       "    <tr>\n",
       "      <th>POLITICS</th>\n",
       "      <td>3996</td>\n",
       "      <td>3996</td>\n",
       "      <td>3995</td>\n",
       "      <td>3739</td>\n",
       "      <td>3995</td>\n",
       "    </tr>\n",
       "    <tr>\n",
       "      <th>SPORTS</th>\n",
       "      <td>4002</td>\n",
       "      <td>4002</td>\n",
       "      <td>4002</td>\n",
       "      <td>3802</td>\n",
       "      <td>4002</td>\n",
       "    </tr>\n",
       "    <tr>\n",
       "      <th>STYLE &amp; BEAUTY</th>\n",
       "      <td>4010</td>\n",
       "      <td>4010</td>\n",
       "      <td>4010</td>\n",
       "      <td>3780</td>\n",
       "      <td>4010</td>\n",
       "    </tr>\n",
       "    <tr>\n",
       "      <th>TRAVEL</th>\n",
       "      <td>4017</td>\n",
       "      <td>4017</td>\n",
       "      <td>4017</td>\n",
       "      <td>3905</td>\n",
       "      <td>4017</td>\n",
       "    </tr>\n",
       "    <tr>\n",
       "      <th>WORLD NEWS</th>\n",
       "      <td>3966</td>\n",
       "      <td>3966</td>\n",
       "      <td>3966</td>\n",
       "      <td>3832</td>\n",
       "      <td>3966</td>\n",
       "    </tr>\n",
       "  </tbody>\n",
       "</table>\n",
       "</div>"
      ],
      "text/plain": [
       "                headline  links  short_description  keywords  text\n",
       "category                                                          \n",
       "BUSINESS            3974   3974               3974      3588  3974\n",
       "ENTERTAINMENT       3969   3969               3969      3809  3969\n",
       "FOOD & DRINK        3985   3985               3985      3876  3985\n",
       "PARENTING           4009   4009               4009      3575  4009\n",
       "POLITICS            3996   3996               3995      3739  3995\n",
       "SPORTS              4002   4002               4002      3802  4002\n",
       "STYLE & BEAUTY      4010   4010               4010      3780  4010\n",
       "TRAVEL              4017   4017               4017      3905  4017\n",
       "WORLD NEWS          3966   3966               3966      3832  3966"
      ]
     },
     "execution_count": 14,
     "metadata": {},
     "output_type": "execute_result"
    }
   ],
   "source": [
    "df_train.groupby(['category']).count()"
   ]
  },
  {
   "cell_type": "code",
   "execution_count": 15,
   "id": "6ac49a8f",
   "metadata": {},
   "outputs": [
    {
     "data": {
      "text/html": [
       "<div>\n",
       "<style scoped>\n",
       "    .dataframe tbody tr th:only-of-type {\n",
       "        vertical-align: middle;\n",
       "    }\n",
       "\n",
       "    .dataframe tbody tr th {\n",
       "        vertical-align: top;\n",
       "    }\n",
       "\n",
       "    .dataframe thead th {\n",
       "        text-align: right;\n",
       "    }\n",
       "</style>\n",
       "<table border=\"1\" class=\"dataframe\">\n",
       "  <thead>\n",
       "    <tr style=\"text-align: right;\">\n",
       "      <th></th>\n",
       "      <th>headline</th>\n",
       "      <th>links</th>\n",
       "      <th>short_description</th>\n",
       "      <th>keywords</th>\n",
       "      <th>text</th>\n",
       "    </tr>\n",
       "    <tr>\n",
       "      <th>category</th>\n",
       "      <th></th>\n",
       "      <th></th>\n",
       "      <th></th>\n",
       "      <th></th>\n",
       "      <th></th>\n",
       "    </tr>\n",
       "  </thead>\n",
       "  <tbody>\n",
       "    <tr>\n",
       "      <th>BUSINESS</th>\n",
       "      <td>1026</td>\n",
       "      <td>1026</td>\n",
       "      <td>1026</td>\n",
       "      <td>915</td>\n",
       "      <td>1026</td>\n",
       "    </tr>\n",
       "    <tr>\n",
       "      <th>ENTERTAINMENT</th>\n",
       "      <td>1003</td>\n",
       "      <td>1003</td>\n",
       "      <td>1003</td>\n",
       "      <td>968</td>\n",
       "      <td>1003</td>\n",
       "    </tr>\n",
       "    <tr>\n",
       "      <th>FOOD &amp; DRINK</th>\n",
       "      <td>1015</td>\n",
       "      <td>1015</td>\n",
       "      <td>1015</td>\n",
       "      <td>987</td>\n",
       "      <td>1015</td>\n",
       "    </tr>\n",
       "    <tr>\n",
       "      <th>PARENTING</th>\n",
       "      <td>991</td>\n",
       "      <td>991</td>\n",
       "      <td>991</td>\n",
       "      <td>891</td>\n",
       "      <td>991</td>\n",
       "    </tr>\n",
       "    <tr>\n",
       "      <th>POLITICS</th>\n",
       "      <td>969</td>\n",
       "      <td>969</td>\n",
       "      <td>969</td>\n",
       "      <td>915</td>\n",
       "      <td>969</td>\n",
       "    </tr>\n",
       "    <tr>\n",
       "      <th>SPORTS</th>\n",
       "      <td>996</td>\n",
       "      <td>996</td>\n",
       "      <td>996</td>\n",
       "      <td>943</td>\n",
       "      <td>996</td>\n",
       "    </tr>\n",
       "    <tr>\n",
       "      <th>STYLE &amp; BEAUTY</th>\n",
       "      <td>989</td>\n",
       "      <td>989</td>\n",
       "      <td>989</td>\n",
       "      <td>926</td>\n",
       "      <td>989</td>\n",
       "    </tr>\n",
       "    <tr>\n",
       "      <th>TRAVEL</th>\n",
       "      <td>980</td>\n",
       "      <td>980</td>\n",
       "      <td>980</td>\n",
       "      <td>953</td>\n",
       "      <td>980</td>\n",
       "    </tr>\n",
       "    <tr>\n",
       "      <th>WORLD NEWS</th>\n",
       "      <td>1012</td>\n",
       "      <td>1012</td>\n",
       "      <td>1012</td>\n",
       "      <td>975</td>\n",
       "      <td>1012</td>\n",
       "    </tr>\n",
       "  </tbody>\n",
       "</table>\n",
       "</div>"
      ],
      "text/plain": [
       "                headline  links  short_description  keywords  text\n",
       "category                                                          \n",
       "BUSINESS            1026   1026               1026       915  1026\n",
       "ENTERTAINMENT       1003   1003               1003       968  1003\n",
       "FOOD & DRINK        1015   1015               1015       987  1015\n",
       "PARENTING            991    991                991       891   991\n",
       "POLITICS             969    969                969       915   969\n",
       "SPORTS               996    996                996       943   996\n",
       "STYLE & BEAUTY       989    989                989       926   989\n",
       "TRAVEL               980    980                980       953   980\n",
       "WORLD NEWS          1012   1012               1012       975  1012"
      ]
     },
     "execution_count": 15,
     "metadata": {},
     "output_type": "execute_result"
    }
   ],
   "source": [
    "df_test.groupby(['category']).count()"
   ]
  },
  {
   "cell_type": "markdown",
   "id": "f8a2b8e0",
   "metadata": {},
   "source": [
    "The category distribution of train and test dataset is well balanced."
   ]
  },
  {
   "cell_type": "code",
   "execution_count": 16,
   "id": "748f24d8",
   "metadata": {},
   "outputs": [
    {
     "data": {
      "text/plain": [
       "<function __main__.ng20_preprocess(doc)>"
      ]
     },
     "execution_count": 16,
     "metadata": {},
     "output_type": "execute_result"
    }
   ],
   "source": [
    "import re\n",
    "from spacy.language import Language\n",
    "import spacy\n",
    "\n",
    "pipeline = spacy.load('en_core_web_sm')\n",
    "\n",
    "\n",
    "# http://emailregex.com/\n",
    "email_re = r\"\"\"(?:[a-z0-9!#$%&'*+/=?^_`{|}~-]+(?:\\.[a-z0-9!#$%&'*+/=?^_`{|}~-]+)*|\"(?:[\\x01-\\x08\\x0b\\x0c\\x0e-\\x1f\\x21\\x23-\\x5b\\x5d-\\x7f]|\\\\[\\x01-\\x09\\x0b\\x0c\\x0e-\\x7f])*\")@(?:(?:[a-z0-9](?:[a-z0-9-]*[a-z0-9])?\\.)+[a-z0-9](?:[a-z0-9-]*[a-z0-9])?|\\[(?:(?:25[0-5]|2[0-4][0-9]|[01]?[0-9][0-9]?)\\.){3}(?:25[0-5]|2[0-4][0-9]|[01]?[0-9][0-9]?|[a-z0-9-]*[a-z0-9]:(?:[\\x01-\\x08\\x0b\\x0c\\x0e-\\x1f\\x21-\\x5a\\x53-\\x7f]|\\\\[\\x01-\\x09\\x0b\\x0c\\x0e-\\x7f])+)\\])\"\"\"\n",
    "\n",
    "# replace = [ (pattern-to-replace, replacement),  ...]\n",
    "replace = [\n",
    "    (r\"<a[^>]*>(.*?)</a>\", r\"\\1\"),  # Matches most URLs\n",
    "    (email_re, \"email\"),            # Matches emails\n",
    "    (r\"(?<=\\d),(?=\\d)\", \"\"),        # Remove commas in numbers\n",
    "    (r\"\\d+\", \"numbr\"),              # Map digits to special token <numbr>\n",
    "    (r\"[\\t\\n\\r\\*\\.\\@\\,\\-\\/]\", \" \"),   # Punctuation and other junk\n",
    "    (r\"\\s+\", \" \")                   # Stips extra whitespace\n",
    "]\n",
    "\n",
    "train_text = df_train['text']\n",
    "test_text = df_test['text']\n",
    "for repl in replace:\n",
    "    train_text = [re.sub(repl[0], repl[1], str(text)) for text in train_text]\n",
    "    test_text = [re.sub(repl[0], repl[1], str(text)) for text in test_text]\n",
    "\n",
    "@Language.component(\"db14\")\n",
    "def ng20_preprocess(doc):\n",
    "    tokens = [token for token in doc \n",
    "              if not any((token.is_stop, token.is_punct))]\n",
    "    tokens = [token.lemma_.lower().strip() for token in tokens]\n",
    "    tokens = [token for token in tokens if token]\n",
    "    return \" \".join(tokens)\n",
    "\n",
    "pipeline.add_pipe(\"db14\")"
   ]
  },
  {
   "cell_type": "code",
   "execution_count": 17,
   "id": "ac4e92f4",
   "metadata": {},
   "outputs": [],
   "source": [
    "docs_train = [pipeline(doc) for doc in train_text]\n",
    "docs_test = [pipeline(doc) for doc in test_text]"
   ]
  },
  {
   "cell_type": "markdown",
   "id": "b427a21e",
   "metadata": {},
   "source": [
    "Compare the clean text and raw text:"
   ]
  },
  {
   "cell_type": "code",
   "execution_count": 18,
   "id": "b89310bc",
   "metadata": {},
   "outputs": [
    {
     "data": {
      "text/plain": [
       "'kansas purdue battle ncaa tournament round predict purdue pull upset advance sweet numbr kansas roll numbr purdue stat record'"
      ]
     },
     "execution_count": 18,
     "metadata": {},
     "output_type": "execute_result"
    }
   ],
   "source": [
    "docs_train[0]"
   ]
  },
  {
   "cell_type": "code",
   "execution_count": 19,
   "id": "a3c04d87",
   "metadata": {},
   "outputs": [
    {
     "data": {
      "text/plain": [
       "'Kansas, Purdue Battle In NCAA Tournament Third Round [Predict]. Will Purdue pull off another upset and advance to the Sweet 16? Or will Kansas roll on? NO. 10 PURDUE *All stats, records'"
      ]
     },
     "execution_count": 19,
     "metadata": {},
     "output_type": "execute_result"
    }
   ],
   "source": [
    "df_train['text'][0]"
   ]
  },
  {
   "cell_type": "markdown",
   "id": "7eac6d7e",
   "metadata": {},
   "source": [
    "# Part 2: Multinomial Naive Bayes"
   ]
  },
  {
   "cell_type": "code",
   "execution_count": 20,
   "id": "20df1f6b",
   "metadata": {
    "scrolled": true
   },
   "outputs": [
    {
     "name": "stdout",
     "output_type": "stream",
     "text": [
      "Fitting 5 folds for each of 4 candidates, totalling 20 fits\n",
      "                precision    recall  f1-score   support\n",
      "\n",
      "      BUSINESS       0.80      0.82      0.81      1026\n",
      " ENTERTAINMENT       0.85      0.78      0.81      1003\n",
      "  FOOD & DRINK       0.90      0.87      0.89      1015\n",
      "     PARENTING       0.73      0.87      0.79       991\n",
      "      POLITICS       0.83      0.77      0.80       969\n",
      "        SPORTS       0.92      0.91      0.91       996\n",
      "STYLE & BEAUTY       0.88      0.84      0.86       989\n",
      "        TRAVEL       0.81      0.83      0.82       980\n",
      "    WORLD NEWS       0.84      0.84      0.84      1012\n",
      "\n",
      "      accuracy                           0.84      8981\n",
      "     macro avg       0.84      0.84      0.84      8981\n",
      "  weighted avg       0.84      0.84      0.84      8981\n",
      "\n"
     ]
    }
   ],
   "source": [
    "params = {'alpha': [0.5, 0.7,1,2],\n",
    "         }\n",
    "text_clf = Pipeline([\n",
    "    ('vect', CountVectorizer()),\n",
    "    ('tfidf', TfidfTransformer()),\n",
    "    ('clf',GridSearchCV(MultinomialNB(), param_grid=params, n_jobs=-1, cv=5, verbose=5)),\n",
    "])\n",
    "# Fitting our train data to the pipeline\n",
    "text_clf.fit(docs_train, df_train['category'])\n",
    "\n",
    "\n",
    "# Predicting our test data\n",
    "predicted = text_clf.predict(docs_test)\n",
    "print(classification_report(df_test['category'],predicted ))"
   ]
  },
  {
   "cell_type": "code",
   "execution_count": 21,
   "id": "4df0ac6d",
   "metadata": {},
   "outputs": [
    {
     "name": "stdout",
     "output_type": "stream",
     "text": [
      "{'alpha': 0.5}\n"
     ]
    }
   ],
   "source": [
    "print(text_clf[2].best_params_)"
   ]
  },
  {
   "cell_type": "code",
   "execution_count": 22,
   "id": "b50e61aa",
   "metadata": {},
   "outputs": [
    {
     "data": {
      "text/plain": [
       "Text(83.40000000000006, 0.5, 'predicted')"
      ]
     },
     "execution_count": 22,
     "metadata": {},
     "output_type": "execute_result"
    },
    {
     "data": {
      "image/png": "[encoded data removed]",
      "text/plain": [
       "<Figure size 432x288 with 2 Axes>"
      ]
     },
     "metadata": {
      "needs_background": "light"
     },
     "output_type": "display_data"
    }
   ],
   "source": [
    "conf_matrix = confusion_matrix(predicted,df_test['category'],labels = ['BUSINESS','ENTERTAINMENT','FOOD & DRINK','PARENTING','POLITICS','SPORTS','STYLE & BEAUTY','TRAVEL'])\n",
    "\n",
    "# Print the confusion matrix using Matplotlib\n",
    "labels = ['BUSINESS','ENTERTAINMENT','FOOD & DRINK','PARENTING','POLITICS','SPORTS','STYLE & BEAUTY','TRAVEL']\n",
    "sns.heatmap(conf_matrix.T,square=True, annot=True, fmt='d', cbar=True,\n",
    "                    xticklabels=set(labels),\n",
    "                    yticklabels=set(labels))\n",
    "plt.xlabel('Target')\n",
    "plt.ylabel('predicted')"
   ]
  },
  {
   "cell_type": "markdown",
   "id": "68ec166c",
   "metadata": {},
   "source": [
    "# Part 3: Perceptron"
   ]
  },
  {
   "cell_type": "code",
   "execution_count": 23,
   "id": "28be9de0",
   "metadata": {},
   "outputs": [
    {
     "name": "stdout",
     "output_type": "stream",
     "text": [
      "                precision    recall  f1-score   support\n",
      "\n",
      "      BUSINESS       0.81      0.85      0.83      1026\n",
      " ENTERTAINMENT       0.81      0.73      0.77      1003\n",
      "  FOOD & DRINK       0.83      0.87      0.85      1015\n",
      "     PARENTING       0.79      0.78      0.79       991\n",
      "      POLITICS       0.77      0.73      0.75       969\n",
      "        SPORTS       0.87      0.93      0.90       996\n",
      "STYLE & BEAUTY       0.84      0.85      0.85       989\n",
      "        TRAVEL       0.78      0.77      0.77       980\n",
      "    WORLD NEWS       0.79      0.79      0.79      1012\n",
      "\n",
      "      accuracy                           0.81      8981\n",
      "     macro avg       0.81      0.81      0.81      8981\n",
      "  weighted avg       0.81      0.81      0.81      8981\n",
      "\n"
     ]
    }
   ],
   "source": [
    "text_clf = Pipeline([\n",
    "    ('vect', CountVectorizer()),\n",
    "    ('tfidf', TfidfTransformer()),\n",
    "    ('clf', Perceptron(tol=1e-3, random_state=0)),\n",
    "])\n",
    "# Fitting our train data to the pipeline\n",
    "text_clf.fit(docs_train, df_train['category'])\n",
    "\n",
    "# Predicting our test data\n",
    "predicted = text_clf.predict(docs_test)\n",
    "print(classification_report(df_test['category'],predicted ))"
   ]
  },
  {
   "cell_type": "code",
   "execution_count": 24,
   "id": "40b1a348",
   "metadata": {},
   "outputs": [
    {
     "data": {
      "text/plain": [
       "Text(83.40000000000006, 0.5, 'predicted')"
      ]
     },
     "execution_count": 24,
     "metadata": {},
     "output_type": "execute_result"
    },
    {
     "data": {
      "image/png": "[encoded data removed]",
      "text/plain": [
       "<Figure size 432x288 with 2 Axes>"
      ]
     },
     "metadata": {
      "needs_background": "light"
     },
     "output_type": "display_data"
    }
   ],
   "source": [
    "conf_matrix = confusion_matrix(predicted,df_test['category'],labels = ['BUSINESS','ENTERTAINMENT','FOOD & DRINK','PARENTING','POLITICS','SPORTS','STYLE & BEAUTY','TRAVEL'])\n",
    "\n",
    "# Print the confusion matrix using Matplotlib\n",
    "labels = ['BUSINESS','ENTERTAINMENT','FOOD & DRINK','PARENTING','POLITICS','SPORTS','STYLE & BEAUTY','TRAVEL']\n",
    "sns.heatmap(conf_matrix.T,square=True, annot=True, fmt='d', cbar=True,\n",
    "                    xticklabels=set(labels),\n",
    "                    yticklabels=set(labels))\n",
    "plt.xlabel('Target')\n",
    "plt.ylabel('predicted')"
   ]
  },
  {
   "cell_type": "markdown",
   "id": "cd215368",
   "metadata": {},
   "source": [
    "# Part 4: SVM"
   ]
  },
  {
   "cell_type": "code",
   "execution_count": 25,
   "id": "b4703f2f",
   "metadata": {},
   "outputs": [
    {
     "name": "stdout",
     "output_type": "stream",
     "text": [
      "Fitting 5 folds for each of 9 candidates, totalling 45 fits\n",
      "[CV] END ..............................................C=0.1; total time=   0.4s\n",
      "[CV] END ..............................................C=0.1; total time=   0.4s\n",
      "[CV] END ..............................................C=0.1; total time=   0.4s\n",
      "[CV] END ..............................................C=0.1; total time=   0.4s\n",
      "[CV] END ..............................................C=0.1; total time=   0.4s\n",
      "[CV] END ..............................................C=0.2; total time=   0.4s\n",
      "[CV] END ..............................................C=0.2; total time=   0.4s\n",
      "[CV] END ..............................................C=0.2; total time=   0.4s\n",
      "[CV] END ..............................................C=0.2; total time=   0.4s\n",
      "[CV] END ..............................................C=0.2; total time=   0.4s\n",
      "[CV] END ..............................C=0.30000000000000004; total time=   0.5s\n",
      "[CV] END ..............................C=0.30000000000000004; total time=   0.5s\n",
      "[CV] END ..............................C=0.30000000000000004; total time=   0.5s\n",
      "[CV] END ..............................C=0.30000000000000004; total time=   0.5s\n",
      "[CV] END ..............................C=0.30000000000000004; total time=   0.5s\n",
      "[CV] END ..............................................C=0.4; total time=   0.5s\n",
      "[CV] END ..............................................C=0.4; total time=   0.5s\n",
      "[CV] END ..............................................C=0.4; total time=   0.5s\n",
      "[CV] END ..............................................C=0.4; total time=   0.5s\n",
      "[CV] END ..............................................C=0.4; total time=   0.5s\n",
      "[CV] END ..............................................C=0.5; total time=   0.5s\n",
      "[CV] END ..............................................C=0.5; total time=   0.5s\n",
      "[CV] END ..............................................C=0.5; total time=   0.5s\n",
      "[CV] END ..............................................C=0.5; total time=   0.5s\n",
      "[CV] END ..............................................C=0.5; total time=   0.5s\n",
      "[CV] END ..............................................C=0.6; total time=   0.6s\n",
      "[CV] END ..............................................C=0.6; total time=   0.6s\n",
      "[CV] END ..............................................C=0.6; total time=   0.6s\n",
      "[CV] END ..............................................C=0.6; total time=   0.6s\n",
      "[CV] END ..............................................C=0.6; total time=   0.6s\n",
      "[CV] END ...............................C=0.7000000000000001; total time=   0.6s\n",
      "[CV] END ...............................C=0.7000000000000001; total time=   0.6s\n",
      "[CV] END ...............................C=0.7000000000000001; total time=   0.6s\n",
      "[CV] END ...............................C=0.7000000000000001; total time=   0.6s\n",
      "[CV] END ...............................C=0.7000000000000001; total time=   0.6s\n",
      "[CV] END ..............................................C=0.8; total time=   0.6s\n",
      "[CV] END ..............................................C=0.8; total time=   0.6s\n",
      "[CV] END ..............................................C=0.8; total time=   0.6s\n",
      "[CV] END ..............................................C=0.8; total time=   0.6s\n",
      "[CV] END ..............................................C=0.8; total time=   0.6s\n",
      "[CV] END ..............................................C=0.9; total time=   0.7s\n",
      "[CV] END ..............................................C=0.9; total time=   0.7s\n",
      "[CV] END ..............................................C=0.9; total time=   0.7s\n",
      "[CV] END ..............................................C=0.9; total time=   0.7s\n",
      "[CV] END ..............................................C=0.9; total time=   0.7s\n",
      "                precision    recall  f1-score   support\n",
      "\n",
      "      BUSINESS       0.84      0.87      0.85      1026\n",
      " ENTERTAINMENT       0.86      0.80      0.83      1003\n",
      "  FOOD & DRINK       0.87      0.89      0.88      1015\n",
      "     PARENTING       0.81      0.84      0.83       991\n",
      "      POLITICS       0.84      0.76      0.80       969\n",
      "        SPORTS       0.90      0.95      0.92       996\n",
      "STYLE & BEAUTY       0.89      0.87      0.88       989\n",
      "        TRAVEL       0.80      0.83      0.81       980\n",
      "    WORLD NEWS       0.83      0.84      0.84      1012\n",
      "\n",
      "      accuracy                           0.85      8981\n",
      "     macro avg       0.85      0.85      0.85      8981\n",
      "  weighted avg       0.85      0.85      0.85      8981\n",
      "\n"
     ]
    }
   ],
   "source": [
    "param_grid = {'C': np.arange(0.1,1,0.1)}\n",
    "text_clf = Pipeline([\n",
    "    ('vect', CountVectorizer()),\n",
    "    ('tfidf', TfidfTransformer()),\n",
    "    ('clf', GridSearchCV(LinearSVC(tol=1e-5),param_grid,refit=True,verbose=2)),\n",
    "])\n",
    "# Fitting our train data to the pipeline\n",
    "text_clf.fit(docs_train, df_train['category'])\n",
    "\n",
    "# Predicting our test data\n",
    "predicted = text_clf.predict(docs_test)\n",
    "print(classification_report(df_test['category'],predicted ))"
   ]
  },
  {
   "cell_type": "code",
   "execution_count": 26,
   "id": "939be46a",
   "metadata": {},
   "outputs": [
    {
     "name": "stdout",
     "output_type": "stream",
     "text": [
      "LinearSVC(C=0.5, tol=1e-05)\n"
     ]
    }
   ],
   "source": [
    "print(text_clf[2].best_estimator_)"
   ]
  },
  {
   "cell_type": "code",
   "execution_count": 27,
   "id": "ad04616c",
   "metadata": {},
   "outputs": [
    {
     "data": {
      "text/plain": [
       "Text(83.40000000000006, 0.5, 'predicted')"
      ]
     },
     "execution_count": 27,
     "metadata": {},
     "output_type": "execute_result"
    },
    {
     "data": {
      "image/png": "[encoded data removed]",
      "text/plain": [
       "<Figure size 432x288 with 2 Axes>"
      ]
     },
     "metadata": {
      "needs_background": "light"
     },
     "output_type": "display_data"
    }
   ],
   "source": [
    "conf_matrix = confusion_matrix(predicted,df_test['category'],labels = ['BUSINESS','ENTERTAINMENT','FOOD & DRINK','PARENTING','POLITICS','SPORTS','STYLE & BEAUTY','TRAVEL'])\n",
    "\n",
    "# Print the confusion matrix using Matplotlib\n",
    "labels = ['BUSINESS','ENTERTAINMENT','FOOD & DRINK','PARENTING','POLITICS','SPORTS','STYLE & BEAUTY','TRAVEL']\n",
    "sns.heatmap(conf_matrix.T,square=True, annot=True, fmt='d', cbar=True,\n",
    "                    xticklabels=set(labels),\n",
    "                    yticklabels=set(labels))\n",
    "plt.xlabel('Target')\n",
    "plt.ylabel('predicted')"
   ]
  },
  {
   "cell_type": "markdown",
   "id": "6771ef04",
   "metadata": {},
   "source": [
    "# Part 5: Decision Tree"
   ]
  },
  {
   "cell_type": "code",
   "execution_count": 28,
   "id": "bf37da1e",
   "metadata": {},
   "outputs": [
    {
     "name": "stdout",
     "output_type": "stream",
     "text": [
      "                precision    recall  f1-score   support\n",
      "\n",
      "      BUSINESS       0.73      0.79      0.76      1026\n",
      " ENTERTAINMENT       0.61      0.58      0.60      1003\n",
      "  FOOD & DRINK       0.73      0.72      0.72      1015\n",
      "     PARENTING       0.69      0.71      0.70       991\n",
      "      POLITICS       0.64      0.59      0.62       969\n",
      "        SPORTS       0.79      0.88      0.83       996\n",
      "STYLE & BEAUTY       0.72      0.71      0.72       989\n",
      "        TRAVEL       0.62      0.60      0.61       980\n",
      "    WORLD NEWS       0.65      0.62      0.64      1012\n",
      "\n",
      "      accuracy                           0.69      8981\n",
      "     macro avg       0.69      0.69      0.69      8981\n",
      "  weighted avg       0.69      0.69      0.69      8981\n",
      "\n"
     ]
    }
   ],
   "source": [
    "text_clf = Pipeline([\n",
    "    ('vect', CountVectorizer()),\n",
    "    ('tfidf', TfidfTransformer()),\n",
    "    ('clf', DecisionTreeClassifier(criterion=\"gini\", \n",
    "                             splitter='random'))\n",
    "])\n",
    "# Fitting our train data to the pipeline\n",
    "text_clf.fit(docs_train, df_train['category'])\n",
    "\n",
    "# Predicting our test data\n",
    "predicted = text_clf.predict(docs_test)\n",
    "\n",
    "print(classification_report(df_test['category'],predicted ))"
   ]
  },
  {
   "cell_type": "code",
   "execution_count": 29,
   "id": "bca825b5",
   "metadata": {},
   "outputs": [
    {
     "data": {
      "text/plain": [
       "Text(83.40000000000006, 0.5, 'predicted')"
      ]
     },
     "execution_count": 29,
     "metadata": {},
     "output_type": "execute_result"
    },
    {
     "data": {
      "image/png": "[encoded data removed]",
      "text/plain": [
       "<Figure size 432x288 with 2 Axes>"
      ]
     },
     "metadata": {
      "needs_background": "light"
     },
     "output_type": "display_data"
    }
   ],
   "source": [
    "conf_matrix = confusion_matrix(predicted,df_test['category'],labels = ['BUSINESS','ENTERTAINMENT','FOOD & DRINK','PARENTING','POLITICS','SPORTS','STYLE & BEAUTY','TRAVEL'])\n",
    "\n",
    "# Print the confusion matrix using Matplotlib\n",
    "labels = ['BUSINESS','ENTERTAINMENT','FOOD & DRINK','PARENTING','POLITICS','SPORTS','STYLE & BEAUTY','TRAVEL']\n",
    "sns.heatmap(conf_matrix.T,square=True, annot=True, fmt='d', cbar=True,\n",
    "                    xticklabels=set(labels),\n",
    "                    yticklabels=set(labels))\n",
    "plt.xlabel('Target')\n",
    "plt.ylabel('predicted')"
   ]
  },
  {
   "cell_type": "markdown",
   "id": "a3487950",
   "metadata": {},
   "source": [
    "# Part 6: Random Forest"
   ]
  },
  {
   "cell_type": "code",
   "execution_count": 30,
   "id": "40458975",
   "metadata": {},
   "outputs": [
    {
     "name": "stdout",
     "output_type": "stream",
     "text": [
      "                precision    recall  f1-score   support\n",
      "\n",
      "      BUSINESS       0.81      0.84      0.83      1026\n",
      " ENTERTAINMENT       0.73      0.69      0.71      1003\n",
      "  FOOD & DRINK       0.77      0.87      0.82      1015\n",
      "     PARENTING       0.76      0.81      0.79       991\n",
      "      POLITICS       0.77      0.69      0.73       969\n",
      "        SPORTS       0.89      0.91      0.90       996\n",
      "STYLE & BEAUTY       0.81      0.82      0.81       989\n",
      "        TRAVEL       0.76      0.69      0.73       980\n",
      "    WORLD NEWS       0.75      0.75      0.75      1012\n",
      "\n",
      "      accuracy                           0.79      8981\n",
      "     macro avg       0.78      0.78      0.78      8981\n",
      "  weighted avg       0.78      0.79      0.78      8981\n",
      "\n"
     ]
    }
   ],
   "source": [
    "text_clf = Pipeline([\n",
    "    ('vect', CountVectorizer()),\n",
    "    ('tfidf', TfidfTransformer()),\n",
    "    ('clf', RandomForestClassifier(criterion ='gini',random_state=1,n_estimators=100))\n",
    "])\n",
    "# Fitting our train data to the pipeline\n",
    "text_clf.fit(docs_train, df_train['category'])\n",
    "\n",
    "# Predicting our test data\n",
    "predicted = text_clf.predict(docs_test)\n",
    "\n",
    "print(classification_report(df_test['category'],predicted ))"
   ]
  },
  {
   "cell_type": "code",
   "execution_count": 31,
   "id": "52ba4261",
   "metadata": {},
   "outputs": [
    {
     "data": {
      "text/plain": [
       "Text(83.40000000000006, 0.5, 'predicted')"
      ]
     },
     "execution_count": 31,
     "metadata": {},
     "output_type": "execute_result"
    },
    {
     "data": {
      "image/png": "[encoded data removed]",
      "text/plain": [
       "<Figure size 432x288 with 2 Axes>"
      ]
     },
     "metadata": {
      "needs_background": "light"
     },
     "output_type": "display_data"
    }
   ],
   "source": [
    "conf_matrix = confusion_matrix(predicted,df_test['category'],labels = ['BUSINESS','ENTERTAINMENT','FOOD & DRINK','PARENTING','POLITICS','SPORTS','STYLE & BEAUTY','TRAVEL'])\n",
    "\n",
    "# Print the confusion matrix using Matplotlib\n",
    "labels = ['BUSINESS','ENTERTAINMENT','FOOD & DRINK','PARENTING','POLITICS','SPORTS','STYLE & BEAUTY','TRAVEL']\n",
    "sns.heatmap(conf_matrix.T,square=True, annot=True, fmt='d', cbar=True,\n",
    "                    xticklabels=set(labels),\n",
    "                    yticklabels=set(labels))\n",
    "plt.xlabel('Target')\n",
    "plt.ylabel('predicted')"
   ]
  }
 ],
 "metadata": {
  "kernelspec": {
   "display_name": "Python 3 (ipykernel)",
   "language": "python",
   "name": "python3"
  },
  "language_info": {
   "codemirror_mode": {
    "name": "ipython",
    "version": 3
   },
   "file_extension": ".py",
   "mimetype": "text/x-python",
   "name": "python",
   "nbconvert_exporter": "python",
   "pygments_lexer": "ipython3",
   "version": "3.8.3"
  }
 },
 "nbformat": 4,
 "nbformat_minor": 5
}
